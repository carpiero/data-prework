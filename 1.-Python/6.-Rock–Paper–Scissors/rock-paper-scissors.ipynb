{
 "cells": [
  {
   "cell_type": "markdown",
   "metadata": {},
   "source": [
    "<img src=\"https://bit.ly/2VnXWr2\" width=\"100\" align=\"left\">"
   ]
  },
  {
   "cell_type": "markdown",
   "metadata": {},
   "source": [
    "# Rock, Paper & Scissors\n",
    "\n",
    "Let's play the famous game against our computer. You can check the rules [here](https://en.wikipedia.org/wiki/Rock%E2%80%93paper%E2%80%93scissors). \n",
    "\n",
    "## Task\n",
    "Create a program that imitates the playability of the well known game of rock, paper, scissors. Follow the guidelines provided.\n",
    "\n",
    "## Tools\n",
    "1. Loop: **for/while**\n",
    "2. Functions: **input(), print()...**\n",
    "3. Conditional statements: **if, elif, else**\n",
    "4. Definition of functions. Modular programming\n",
    "5. Import modules\n",
    "\n",
    "**To solve this challenge, the use of functions is recommended.**\n",
    "\n",
    "#### 1. Import the choice function of the random module."
   ]
  },
  {
   "cell_type": "code",
   "execution_count": 1,
   "metadata": {},
   "outputs": [],
   "source": [
    "import random"
   ]
  },
  {
   "cell_type": "markdown",
   "metadata": {},
   "source": [
    "#### 2. Create a list that includes the 3 possible gesture options of the game: 'rock', 'paper' or 'scissors'. Store the list in a variable called `gestures`."
   ]
  },
  {
   "cell_type": "code",
   "execution_count": 2,
   "metadata": {},
   "outputs": [],
   "source": [
    "gestures=['rock','paper','scissors']"
   ]
  },
  {
   "cell_type": "markdown",
   "metadata": {},
   "source": [
    "#### 3. Create a variable called `n_rounds` to store the maximum number of rounds to play in a game. \n",
    "Remember that the number of rounds must be odd: 1, 3, 5, ..."
   ]
  },
  {
   "cell_type": "code",
   "execution_count": 3,
   "metadata": {},
   "outputs": [
    {
     "name": "stdout",
     "output_type": "stream",
     "text": [
      "Cuantos números de rounds quieres jugar:3\n"
     ]
    }
   ],
   "source": [
    "n_rounds=(int(input(f'Cuantos números de rounds quieres jugar:')))\n",
    "num_rounds=[]"
   ]
  },
  {
   "cell_type": "markdown",
   "metadata": {},
   "source": [
    "#### 4. Create a variable called `rounds_to_win` to store the number of rounds that a player must win to win the game.\n",
    "**Hint**: the value stored in `rounds_to_win` depends on the value of `n_rounds`. "
   ]
  },
  {
   "cell_type": "code",
   "execution_count": 4,
   "metadata": {},
   "outputs": [],
   "source": [
    "rounds_to_win=n_rounds//2+1"
   ]
  },
  {
   "cell_type": "markdown",
   "metadata": {},
   "source": [
    "#### 5. Create two variables to store the number of rounds that the computer and the player have won. Call these variables `cpu_score` and `player_score`."
   ]
  },
  {
   "cell_type": "code",
   "execution_count": 5,
   "metadata": {},
   "outputs": [],
   "source": [
    "cpu_score=[]\n",
    "player_score=[]"
   ]
  },
  {
   "cell_type": "markdown",
   "metadata": {},
   "source": [
    "#### 6. Define a function that randomly returns one of the 3 gesture options.\n",
    "You will use this function to simulate the gesture choice of the computer. "
   ]
  },
  {
   "cell_type": "code",
   "execution_count": 6,
   "metadata": {},
   "outputs": [],
   "source": [
    "def cpu_choi():\n",
    "    import random\n",
    "    cpu_choice=random.choice(gestures)\n",
    "    return cpu_choice"
   ]
  },
  {
   "cell_type": "markdown",
   "metadata": {},
   "source": [
    "#### 7. Define a function that asks the player which is the gesture he or she wants to show: 'rock', 'paper' or 'scissors'.\n",
    "The player should only be allowed to choose one of the 3 gesture options. If the player's choice is not rock, paper or scissors, keep asking until it is."
   ]
  },
  {
   "cell_type": "code",
   "execution_count": 7,
   "metadata": {},
   "outputs": [
    {
     "name": "stdout",
     "output_type": "stream",
     "text": [
      "Escoge entre rock, paper o scissors:rock\n"
     ]
    }
   ],
   "source": [
    "player_choice=(input(f'Escoge entre {gestures[0]}, {gestures[1]} o {gestures[2]}:'))\n",
    "while player_choice!=gestures[0] and player_choice!=gestures[1] and player_choice!=gestures[2]:\n",
    "    player_choice=(input(f'Por favor escoge entre {gestures[0]}, {gestures[1]} o {gestures[2]}:'))\n"
   ]
  },
  {
   "cell_type": "markdown",
   "metadata": {},
   "source": [
    "#### 8. Define a function that checks who won a round. \n",
    "The function should return 0 if there is a tie, 1 if the computer wins and 2 if the player wins."
   ]
  },
  {
   "cell_type": "code",
   "execution_count": 8,
   "metadata": {},
   "outputs": [],
   "source": [
    "def roundwin():\n",
    "    cpu_choic=cpu_choi()\n",
    "    num_rounds.append(1)\n",
    "    print(f'Computer eligió {cpu_choic}')\n",
    "    round2=0\n",
    "    if cpu_choic==player_choice:\n",
    "        round2=0\n",
    "    elif cpu_choic==gestures[0] and player_choice==gestures[2]:\n",
    "        round2=1\n",
    "    elif cpu_choic==gestures[1] and player_choice==gestures[0]:\n",
    "        round2=1\n",
    "    elif cpu_choic==gestures[2] and player_choice==gestures[1]:\n",
    "        round2=1 \n",
    "    else:\n",
    "        round2=2\n",
    "    return round2"
   ]
  },
  {
   "cell_type": "markdown",
   "metadata": {},
   "source": [
    "#### 9. Define a function that prints the choice of the computer, the choice of the player and a message that announces who won the current round. \n",
    "You should also use this function to update the variables that count the number of rounds that the computer and the player have won. The score of the winner increases by one point. If there is a tie, the score does not increase."
   ]
  },
  {
   "cell_type": "code",
   "execution_count": 9,
   "metadata": {},
   "outputs": [],
   "source": [
    "def win():\n",
    "    roundw=roundwin()\n",
    "    print(f'Player eligió {player_choice}')\n",
    "    if roundw==2:\n",
    "        print('Player win')\n",
    "        player_score.append(1)\n",
    "    elif roundw==1:\n",
    "        print('CPU win')\n",
    "        cpu_score.append(1)\n",
    "    else:\n",
    "        print('Tie')\n",
    "    return"
   ]
  },
  {
   "cell_type": "markdown",
   "metadata": {},
   "source": [
    "#### 10. Now it's time to code the execution of the game using the functions and variables you defined above. \n",
    "\n",
    "First, create a loop structure that repeats while no player reaches the minimum score necessary to win and the number of rounds is less than the maximum number of rounds to play in a game.  \n",
    "\n",
    "Inside the loop, use the functions and variables above to create the execution of a round: ask for the player's choice, generate the random choice of the computer, show the round results, update the scores, etc. "
   ]
  },
  {
   "cell_type": "code",
   "execution_count": 10,
   "metadata": {},
   "outputs": [
    {
     "name": "stdout",
     "output_type": "stream",
     "text": [
      "Escoge entre rock, paper o scissors:rock\n",
      "Computer eligió paper\n",
      "Player eligió rock\n",
      "CPU win\n",
      "Player score:0\n",
      "CPU score:1\n",
      "Escoge entre rock, paper o scissors:rock\n",
      "Computer eligió paper\n",
      "Player eligió rock\n",
      "CPU win\n",
      "Player score:0\n",
      "CPU score:2\n"
     ]
    }
   ],
   "source": [
    "while not any([len(cpu_score)>=rounds_to_win, len(player_score)>=rounds_to_win,len(num_rounds)>=n_rounds ]):\n",
    "    player_choice=(input(f'Escoge entre {gestures[0]}, {gestures[1]} o {gestures[2]}:'))\n",
    "    while player_choice!=gestures[0] and player_choice!=gestures[1] and player_choice!=gestures[2]:\n",
    "        player_choice=(input(f'Por favor escoge entre {gestures[0]}, {gestures[1]} o {gestures[2]}:'))\n",
    "    win()\n",
    "    print(f'Player score:{len(player_score)}')\n",
    "    print(f'CPU score:{len(cpu_score)}')"
   ]
  },
  {
   "cell_type": "markdown",
   "metadata": {},
   "source": [
    "#### 11. Print the winner of the game based on who won more rounds.\n",
    "Remember that the game might be tied. "
   ]
  },
  {
   "cell_type": "code",
   "execution_count": 11,
   "metadata": {},
   "outputs": [
    {
     "name": "stdout",
     "output_type": "stream",
     "text": [
      "El ganador es CPU\n"
     ]
    }
   ],
   "source": [
    "if player_score>cpu_score:\n",
    "    print('El ganador es Player')\n",
    "elif player_score<cpu_score:\n",
    "    print('El ganador es CPU')\n",
    "else:\n",
    "    print('Empate entre CPU y Player')"
   ]
  },
  {
   "cell_type": "markdown",
   "metadata": {},
   "source": [
    "# Bonus: Rock, Paper, Scissors, Lizard & Spock\n",
    "![](images/rpsls.jpg)\n",
    "\n",
    "In this challenge, you need to improve the previous game by adding two new options. To know more about the rules of the improved version of rock, paper, scissors, check this [link](http://www.samkass.com/theories/RPSSL.html). \n",
    "\n",
    "In addition, you will also need to improve how the game interacts with the player: the number of rounds to play, which must be an odd number, will be requested to the user until a valid number is entered. Define a new function to make that request.\n",
    "\n",
    "**Hint**: Try to reuse the code that you already coded in the previous challenge. If your code is efficient, this bonus will only consist of simple modifications to the original game."
   ]
  },
  {
   "cell_type": "code",
   "execution_count": 1,
   "metadata": {},
   "outputs": [],
   "source": [
    "gestures2=['rock','paper','scissors','spock','lizard']\n",
    "\n",
    "\n",
    "\n",
    "num_rounds2=[]\n",
    "cpu_score2=[]\n",
    "player_score2=[]\n"
   ]
  },
  {
   "cell_type": "code",
   "execution_count": 2,
   "metadata": {},
   "outputs": [
    {
     "name": "stdout",
     "output_type": "stream",
     "text": [
      "Cuantos números de rounds quieres jugar:5\n"
     ]
    }
   ],
   "source": [
    "n_rounds2=(int(input(f'Cuantos números de rounds quieres jugar:')))\n",
    "while n_rounds2%2==0:\n",
    "    n_rounds2=(int(input(f'Escoge un numero impar:')))"
   ]
  },
  {
   "cell_type": "code",
   "execution_count": 3,
   "metadata": {},
   "outputs": [],
   "source": [
    "rounds_to_win2=n_rounds2//2+1"
   ]
  },
  {
   "cell_type": "code",
   "execution_count": 4,
   "metadata": {},
   "outputs": [],
   "source": [
    "def cpu_choi2():\n",
    "    import random\n",
    "    cpu_choice2=random.choice(gestures2)\n",
    "    return cpu_choice2\n"
   ]
  },
  {
   "cell_type": "code",
   "execution_count": 5,
   "metadata": {},
   "outputs": [],
   "source": [
    "def roundwin2():\n",
    "    cpu_choic2=cpu_choi2()\n",
    "    num_rounds2.append(1)\n",
    "    print(f'Computer eligió {cpu_choic2}')\n",
    "    round3=0\n",
    "    if cpu_choic2==player_choice2:\n",
    "        round3=0\n",
    "    elif cpu_choic2==gestures2[0] and player_choice2==gestures2[2] or player_choice2==gestures2[4]:\n",
    "        round3=1\n",
    "    elif cpu_choic2==gestures2[1] and player_choice2==gestures2[0] or player_choice2==gestures2[3]:\n",
    "        round3=1\n",
    "    elif cpu_choic2==gestures2[2] and player_choice2==gestures2[1] or player_choice2==gestures2[4]:\n",
    "        round3=1 \n",
    "    elif cpu_choic2==gestures2[3] and player_choice2==gestures2[0] or player_choice2==gestures2[2]:\n",
    "        round3=1 \n",
    "    elif cpu_choic2==gestures2[4] and player_choice2==gestures2[1] or player_choice2==gestures2[3]:\n",
    "        round3=1 \n",
    "    else:\n",
    "        round3=2\n",
    "    return round3"
   ]
  },
  {
   "cell_type": "code",
   "execution_count": 6,
   "metadata": {},
   "outputs": [],
   "source": [
    "def win2():\n",
    "    roundw2=roundwin2()\n",
    "    print(f'Player eligió {player_choice2}')\n",
    "    if roundw2==2:\n",
    "        print('Player win')\n",
    "        player_score2.append(1)\n",
    "    elif roundw2==1:\n",
    "        print('CPU win')\n",
    "        cpu_score2.append(1)\n",
    "    else :\n",
    "        print('Tie')\n",
    "    return"
   ]
  },
  {
   "cell_type": "code",
   "execution_count": 7,
   "metadata": {},
   "outputs": [
    {
     "name": "stdout",
     "output_type": "stream",
     "text": [
      "Escoge entre rock, paper, scissors, spock o lizard:rock\n",
      "Computer eligió spock\n",
      "Player eligió rock\n",
      "CPU win\n",
      "Player score:0\n",
      "CPU score:1\n",
      "Escoge entre rock, paper, scissors, spock o lizard:rock\n",
      "Computer eligió spock\n",
      "Player eligió rock\n",
      "CPU win\n",
      "Player score:0\n",
      "CPU score:2\n",
      "Escoge entre rock, paper, scissors, spock o lizard:rock\n",
      "Computer eligió spock\n",
      "Player eligió rock\n",
      "CPU win\n",
      "Player score:0\n",
      "CPU score:3\n"
     ]
    }
   ],
   "source": [
    "while not any([len(cpu_score2)>=rounds_to_win2, len(player_score2)>=rounds_to_win2,len(num_rounds2)>=n_rounds2 ]):\n",
    "    player_choice2=(input(f'Escoge entre {gestures2[0]}, {gestures2[1]}, {gestures2[2]}, {gestures2[3]} o {gestures2[4]}:'))\n",
    "    while player_choice2!=gestures2[0] and player_choice2!=gestures2[1] and player_choice2!=gestures2[2]and player_choice2!=gestures2[3]and player_choice2!=gestures2[4]:\n",
    "        player_choice2=(input(f'Por favor escoge entre {gestures2[0]}, {gestures2[1]} , {gestures2[2]}, {gestures2[3]}, {gestures2[4]}:'))\n",
    "    win2()\n",
    "    print(f'Player score:{len(player_score2)}')\n",
    "    print(f'CPU score:{len(cpu_score2)}')\n"
   ]
  },
  {
   "cell_type": "code",
   "execution_count": 8,
   "metadata": {},
   "outputs": [
    {
     "name": "stdout",
     "output_type": "stream",
     "text": [
      "El ganador es CPU\n"
     ]
    }
   ],
   "source": [
    "if player_score2>cpu_score2:\n",
    "    print('El ganador es Player')\n",
    "elif player_score2<cpu_score2:\n",
    "    print('El ganador es CPU')\n",
    "else:\n",
    "    print('Empate entre CPU y Player')"
   ]
  }
 ],
 "metadata": {
  "kernelspec": {
   "display_name": "Python 3",
   "language": "python",
   "name": "python3"
  },
  "language_info": {
   "codemirror_mode": {
    "name": "ipython",
    "version": 3
   },
   "file_extension": ".py",
   "mimetype": "text/x-python",
   "name": "python",
   "nbconvert_exporter": "python",
   "pygments_lexer": "ipython3",
   "version": "3.7.4"
  }
 },
 "nbformat": 4,
 "nbformat_minor": 2
}
